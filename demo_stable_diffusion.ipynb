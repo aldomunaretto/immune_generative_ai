{
 "cells": [
  {
   "cell_type": "code",
   "execution_count": null,
   "id": "1ab0ef33",
   "metadata": {},
   "outputs": [],
   "source": [
    "from dotenv import load_dotenv\n",
    "load_dotenv(dotenv_path=\".env_sample\")"
   ]
  },
  {
   "cell_type": "markdown",
   "id": "c5ab5be2",
   "metadata": {},
   "source": [
    "~~~python\n",
    "from huggingface_hub import login\n",
    "login(token=\"\")\n",
    "~~~"
   ]
  },
  {
   "cell_type": "code",
   "execution_count": null,
   "id": "f2241967",
   "metadata": {},
   "outputs": [],
   "source": [
    "import torch\n",
    "from diffusers import StableDiffusionPipeline\n",
    "\n",
    "pipe = StableDiffusionPipeline.from_pretrained(\n",
    "    \"runwayml/stable-diffusion-v1-5\",\n",
    "    torch_dtype=torch.float32\n",
    ").to(\"mps\") # Usa \"cpu\", \"cuda\" para GPU o \"mps\" para Apple Silicon\n",
    "\n",
    "prompt = \"a futuristic city at sunset, ultra-detailed, 4K\"\n",
    "image = pipe(prompt).images[0]\n",
    "#image.save(\"output_sb1-5.png\") # Guarda la imagen generada\n",
    "image"
   ]
  },
  {
   "cell_type": "code",
   "execution_count": null,
   "id": "59c6307a",
   "metadata": {},
   "outputs": [],
   "source": [
    "pipe = StableDiffusionPipeline.from_pretrained(\n",
    "    \"runwayml/stable-diffusion-v1-5\",\n",
    "    torch_dtype=torch.float32\n",
    ").to(\"mps\")\n",
    "prompt = \"a futuristic city at sunset, ultra-detailed, 4K\"\n",
    "generator = torch.manual_seed(42)\n",
    "image = pipe(prompt, generator=generator).images[0]\n",
    "image"
   ]
  },
  {
   "cell_type": "code",
   "execution_count": null,
   "id": "e6c07446",
   "metadata": {},
   "outputs": [],
   "source": [
    "pipe = StableDiffusionPipeline.from_pretrained(\n",
    "    \"runwayml/stable-diffusion-v1-5\",\n",
    "    torch_dtype=torch.float32\n",
    ").to(\"mps\")\n",
    "prompt = \"a futuristic city at sunset, ultra-detailed, 4K\"\n",
    "generator = torch.manual_seed(42)\n",
    "image = pipe(prompt, generator=generator).images[0]\n",
    "image"
   ]
  },
  {
   "cell_type": "code",
   "execution_count": null,
   "id": "cf99204c",
   "metadata": {},
   "outputs": [],
   "source": [
    "import torch\n",
    "from diffusers import StableDiffusion3Pipeline\n",
    "\n",
    "pipe = StableDiffusion3Pipeline.from_pretrained(\"stabilityai/stable-diffusion-3-medium-diffusers\", torch_dtype=torch.float16)\n",
    "pipe = pipe.to(\"mps\")\n",
    "\n",
    "image = pipe(\n",
    "    \"A cat holding a sign that says hello world\",\n",
    "    negative_prompt=\"\",\n",
    "    num_inference_steps=28,\n",
    "    guidance_scale=7.0,\n",
    "    generator=torch.manual_seed(42)\n",
    ").images[0]\n",
    "image"
   ]
  },
  {
   "cell_type": "code",
   "execution_count": null,
   "id": "9987c760",
   "metadata": {},
   "outputs": [],
   "source": [
    "import torch\n",
    "from diffusers import StableDiffusion3Pipeline\n",
    "\n",
    "pipe = StableDiffusion3Pipeline.from_pretrained(\"stabilityai/stable-diffusion-3-medium-diffusers\", torch_dtype=torch.float16)\n",
    "pipe = pipe.to(\"mps\")\n",
    "\n",
    "image = pipe(\n",
    "    \"A cat holding a sign that says hello world\",\n",
    "    negative_prompt=\"\",\n",
    "    num_inference_steps=28,\n",
    "    guidance_scale=7.0,\n",
    "    generator=torch.manual_seed(42)\n",
    ").images[0]\n",
    "image"
   ]
  },
  {
   "cell_type": "code",
   "execution_count": null,
   "id": "c36e807a",
   "metadata": {},
   "outputs": [],
   "source": [
    "import torch\n",
    "from diffusers import StableDiffusion3Pipeline\n",
    "\n",
    "pipe = StableDiffusion3Pipeline.from_pretrained(\"stabilityai/stable-diffusion-3-medium-diffusers\", torch_dtype=torch.float16)\n",
    "pipe.to(\"mps\")\n",
    "\n",
    "image = pipe(\n",
    "    prompt=\"a photo of a cat holding a sign that says hello world\",\n",
    "    negative_prompt=\"blurry, low quality, text, dog\",\n",
    "    num_inference_steps=28,\n",
    "    height=1024,\n",
    "    width=1024,\n",
    "    guidance_scale=7.0,\n",
    "    generator=torch.manual_seed(42)\n",
    ").images[0]\n",
    "# image.save(\"sd3_hello_world.png\")\n",
    "image"
   ]
  }
 ],
 "metadata": {
  "kernelspec": {
   "display_name": "Python 3",
   "language": "python",
   "name": "python3"
  },
  "language_info": {
   "codemirror_mode": {
    "name": "ipython",
    "version": 3
   },
   "file_extension": ".py",
   "mimetype": "text/x-python",
   "name": "python",
   "nbconvert_exporter": "python",
   "pygments_lexer": "ipython3",
   "version": "3.11.11"
  }
 },
 "nbformat": 4,
 "nbformat_minor": 5
}
