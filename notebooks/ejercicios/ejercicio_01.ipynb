{
 "cells": [
  {
   "cell_type": "markdown",
   "id": "d15d8294-3328-4e07-ad16-8a03e9bbfdb9",
   "metadata": {},
   "source": [
    "# TAREA DE EJERCICIO\n",
    "\n",
    "Actualiza el primer proyecto para resumir una página web y utilizar un modelo de código abierto que se ejecute localmente a través de Ollama en lugar de OpenAI\n",
    "\n",
    "Podrás utilizar esta técnica para todos los proyectos posteriores si prefiere no utilizar API de pago (closed source).\n",
    "\n",
    "**Beneficios:**\n",
    "1. Sin cargos por API: código abierto\n",
    "2. Los datos no salen de su ordenador\n",
    "\n",
    "**Desventajas:**\n",
    "1. Tiene mucha menos potencia (parámetros) que el modelo frontera\n",
    "\n",
    "## Resumen de la instalación de Ollama\n",
    "\n",
    "¡Simplemente visita [ollama.com](https://ollama.com) e instálalo!\n",
    "\n",
    "Una vez que hayas terminado, el servidor ollama ya debería estar ejecutándose localmente.\n",
    "Si entras en:\n",
    "[http://localhost:11434/](http://localhost:11434/)\n",
    "\n",
    "Debería ver el mensaje `Ollama se está ejecutando`.\n",
    "\n",
    "De lo contrario, abre una nueva Terminal (Mac) o Powershell (Windows) e introduce `ollama serve`.\n",
    "Luego, intenta entrar em [http://localhost:11434/](http://localhost:11434/) nuevamente."
   ]
  },
  {
   "cell_type": "code",
   "execution_count": 1,
   "id": "4e2a9393-7767-488e-a8bf-27c12dca35bd",
   "metadata": {},
   "outputs": [],
   "source": [
    "import requests\n",
    "from bs4 import BeautifulSoup\n",
    "from IPython.display import Markdown, display"
   ]
  },
  {
   "cell_type": "code",
   "execution_count": 2,
   "id": "29ddd15d-a3c5-4f4e-a678-873f56162724",
   "metadata": {},
   "outputs": [],
   "source": [
    "# Constantes\n",
    "\n",
    "OLLAMA_API = \"http://localhost:11434/api/chat\"\n",
    "HEADERS = {\"Content-Type\": \"application/json\"}\n",
    "MODEL = \"llama3.2\""
   ]
  },
  {
   "cell_type": "code",
   "execution_count": 3,
   "id": "dac0a679-599c-441f-9bf2-ddc73d35b940",
   "metadata": {},
   "outputs": [],
   "source": [
    "# Crea una lista de mensajes utilizando el mismo formato que usamos para OpenAI\n",
    "\n",
    "messages = [\n",
    "    {\"role\": \"user\", \"content\": \"Describe algunas de las aplicaciones comerciales de la IA generativa.\"}\n",
    "]"
   ]
  },
  {
   "cell_type": "code",
   "execution_count": 4,
   "id": "7bb9c624-14f0-4945-a719-8ddb64f66f47",
   "metadata": {},
   "outputs": [],
   "source": [
    "payload = {\n",
    "        \"model\": MODEL,\n",
    "        \"messages\": messages,\n",
    "        \"stream\": False\n",
    "    }"
   ]
  },
  {
   "cell_type": "code",
   "execution_count": 5,
   "id": "42b9f644-522d-4e05-a691-56e7658c0ea9",
   "metadata": {},
   "outputs": [
    {
     "name": "stdout",
     "output_type": "stream",
     "text": [
      "La Inteligencia Artificial (IA) generativa es una rama de la IA que se enfoca en crear contenido original a partir de datos y patrones existentes, como imágenes, textos y audio. Algunas de las aplicaciones comerciales más comunes de la IA generativa incluyen:\n",
      "\n",
      "1. **Generación de contenido**: La IA generativa puede ser utilizada para crear contenido automático, como artículos de blog, descripciones de productos y publicaciones en redes sociales.\n",
      "2. **Diseño gráfico y visualización**: La IA generativa puede ayudar a diseñadores a crear diseños gráficos más efectivos y a visualizar datos complejos de manera más sencilla.\n",
      "3. **Creación de música y audio**: La IA generativa puede ser utilizada para crear música original y sonidos de efecto que pueden ser utilizados en películas, videojuegos y otros medios de comunicación.\n",
      "4. **Diseño de productos**: La IA generativa puede ayudar a diseñadores a crear diseños de productos más innovadores y efectivos.\n",
      "5. **Generación de personajes y objetos virtuales**: La IA generativa puede ser utilizada para crear personajes y objetos virtuales que pueden ser utilizados en videojuegos, películas y otros medios de comunicación.\n",
      "6. **Análisis de datos y visualización**: La IA generativa puede ayudar a analizar grandes cantidades de datos y visualizarlos de manera más efectiva, lo que puede ayudar a tomar decisiones informadas en diferentes campos, como la finanza, la salud y el marketing.\n",
      "7. **Creación de experiencias de realidad virtual (RV) y aumentada (RAV)**: La IA generativa puede ser utilizada para crear experiencias de RV y RAV más realistas y interactivas.\n",
      "\n",
      "Algunos ejemplos de empresas que están utilizando la IA generativa en sus aplicaciones comerciales incluyen:\n",
      "\n",
      "* Google, que utiliza la IA generativa para crear imágenes de realidad virtual.\n",
      "* Amazon, que utiliza la IA generativa para crear publicaciones en redes sociales y descripciones de productos.\n",
      "* Netflix, que utiliza la IA generativa para crear recomendaciones de contenido.\n",
      "* Airbnb, que utiliza la IA generativa para crear experiencias de RV y RAV.\n",
      "\n",
      "En resumen, la IA generativa es una herramienta poderosa que puede ser utilizada en diferentes campos comerciales para crear contenido original, diseñar productos más efectivos y mejorar la experiencia del usuario.\n"
     ]
    }
   ],
   "source": [
    "response = requests.post(OLLAMA_API, json=payload, headers=HEADERS)\n",
    "print(response.json()['message']['content'])"
   ]
  },
  {
   "cell_type": "markdown",
   "id": "6a021f13-d6a1-4b96-8e18-4eae49d876fe",
   "metadata": {},
   "source": [
    "# Presentación del paquete ollama\n",
    "\n",
    "Ahora haremos lo mismo, pero utilizando el elegante paquete de Python ollama en lugar de una llamada HTTP directa.\n",
    "\n",
    "En esencia, se realiza la misma llamada que se indicó anteriormente al servidor ollama que se ejecuta en localhost:11434"
   ]
  },
  {
   "cell_type": "code",
   "execution_count": 7,
   "id": "7745b9c4-57dc-4867-9180-61fa5db55eb8",
   "metadata": {},
   "outputs": [
    {
     "data": {
      "text/markdown": [
       "La inteligencia artificial generativa (IAG) se refiere al uso de técnicas de aprendizaje automático y modelos de red neuronal para generar contenido nuevo, imitando a los seres humanos. Algunas de las aplicaciones comerciales más comunes de la IAG son:\n",
       "\n",
       "1. **Generación de contenido**: La IAG puede ser utilizada para generar contenido como texto, imágenes, videos y audio, lo que puede ser utilizado en marketing, publicidad y comunicación.\n",
       " * Ejemplos: Generar artículos de blog, crear contenido social, diseñar anuncios.\n",
       "2. **Diseño asistido por inteligencia artificial**: La IAG puede ayudar a los diseñadores a generar ideas y diseños nuevos, lo que puede ser utilizado en la creación de productos, arquitectura y moda.\n",
       " * Ejemplos: Generar diseños de ropa, crear patrones para textiles, diseñar edificios.\n",
       "3. **Generación de música y audio**: La IAG puede ser utilizada para generar música y audio de alta calidad, lo que puede ser utilizado en la creación de contenido musical y en la industria del entretenimiento.\n",
       " * Ejemplos: Generar canciones, crear efectos sonoros, diseñar sonidos para películas y videojuegos.\n",
       "4. **Generación de textos y traducciones**: La IAG puede ser utilizada para generar textos y traducir texto de un idioma a otro, lo que puede ser utilizado en la creación de contenido y la comunicación internacional.\n",
       " * Ejemplos: Generar resúmenes de artículos, traducir texto de inglés a español, crear contenido para sitios web internacionales.\n",
       "5. **Generación de imágenes y videos**: La IAG puede ser utilizada para generar imágenes y videos de alta calidad, lo que puede ser utilizado en la creación de contenido visual y en la industria del entretenimiento.\n",
       " * Ejemplos: Generar imágenes de productores, crear efectos visuales para películas y videojuegos, diseñar anuncios.\n",
       "6. **Análisis de datos y predicción**: La IAG puede ser utilizada para analizar grandes cantidades de datos y generar predicciones sobre patrones y tendencias, lo que puede ser utilizado en la toma de decisiones empresariales y en la industria financiera.\n",
       " * Ejemplos: Analizar datos de ventas, predecir patrones de comportamiento, diseñar modelos de crecimiento para empresas.\n",
       "\n",
       "En resumen, la IAG tiene un amplio rango de aplicaciones comerciales que pueden ser utilizadas para generar contenido, mejorar la eficiencia y la productividad, y crear nuevos productos y servicios."
      ],
      "text/plain": [
       "<IPython.core.display.Markdown object>"
      ]
     },
     "metadata": {},
     "output_type": "display_data"
    }
   ],
   "source": [
    "import ollama\n",
    "from IPython.display import Markdown, display\n",
    "\n",
    "response = ollama.chat(model=MODEL, messages=messages)\n",
    "display(Markdown(response['message']['content']))"
   ]
  },
  {
   "cell_type": "markdown",
   "id": "1622d9bb-5c68-4d4e-9ca4-b492c751f898",
   "metadata": {},
   "source": [
    "# AHORA el ejercicio para ti\n",
    "\n",
    "Toma el código notebook 01 e incorpóralo aquí para crear un resumidor de sitios web que use Llama 3.2 ejecutándose localmente en lugar de OpenAI"
   ]
  },
  {
   "cell_type": "code",
   "execution_count": 8,
   "id": "4a3d6881-35af-469e-a8ff-a8b62b721d95",
   "metadata": {},
   "outputs": [],
   "source": [
    "from selenium import webdriver\n",
    "from selenium.webdriver.chrome.service import Service\n",
    "from selenium.webdriver.common.by import By\n",
    "from selenium.webdriver.chrome.options import Options\n",
    "import time\n",
    "\n",
    "class Website:\n",
    "    url: str\n",
    "    title: str\n",
    "    text: str\n",
    "\n",
    "    def __init__(self, url):\n",
    "        self.url = url\n",
    "\n",
    "        options = Options()\n",
    "\n",
    "        options.add_argument(\"--no-sandbox\")\n",
    "        options.add_argument(\"--disable-dev-shm-usage\")\n",
    "\n",
    "        service = Service(\"chromedriver-mac-arm64/chromedriver\")\n",
    "        driver = webdriver.Chrome(service=service, options=options)\n",
    "        driver.get(url)\n",
    "\n",
    "        input(\"Please complete the verification in the browser and press Enter to continue...\")\n",
    "        page_source = driver.page_source\n",
    "        driver.quit()\n",
    "\n",
    "        soup = BeautifulSoup(page_source, 'html.parser')\n",
    "        self.title = soup.title.string if soup.title else \"No title found\"\n",
    "        for irrelevant in soup([\"script\", \"style\", \"img\", \"input\"]):\n",
    "            irrelevant.decompose()\n",
    "        self.text = soup.get_text(separator=\"\\n\", strip=True)"
   ]
  },
  {
   "cell_type": "code",
   "execution_count": 9,
   "id": "8b93f1b0",
   "metadata": {},
   "outputs": [],
   "source": [
    "system_prompt = \"\"\" Eres un asistente que analiza el contenido de un sitio web\n",
    "y proporciona un breve resumen, ignorando el texto que podría estar relacionado con la navegación.\n",
    "Responder en Markdown.\"\"\""
   ]
  },
  {
   "cell_type": "code",
   "execution_count": 10,
   "id": "59a648b6",
   "metadata": {},
   "outputs": [],
   "source": [
    "def user_prompt_for(website):\n",
    "    title = getattr(website, \"title\", None)\n",
    "    if title is None and isinstance(website, dict):\n",
    "        title = website.get(\"title\", \"\")\n",
    "    text = getattr(website, \"text\", None)\n",
    "    if text is None and isinstance(website, dict):\n",
    "        text = website.get(\"content\", \"\")\n",
    "    user_prompt = f\"\"\"\n",
    "    Estás viendo un sitio web titulado {title}.\n",
    "    El contenido de este sitio web es el siguiente: {text}.\n",
    "    Si incluye noticias, productos o anuncios, resúmelos también.\n",
    "    \"\"\"\n",
    "    return user_prompt"
   ]
  },
  {
   "cell_type": "code",
   "execution_count": 11,
   "id": "250e28a1",
   "metadata": {},
   "outputs": [],
   "source": [
    "def messages_for(website):\n",
    "    return [\n",
    "        {\"role\": \"system\", \"content\": system_prompt},\n",
    "        {\"role\": \"user\", \"content\": user_prompt_for(website)}\n",
    "    ]"
   ]
  },
  {
   "cell_type": "code",
   "execution_count": 12,
   "id": "449d6310",
   "metadata": {},
   "outputs": [],
   "source": [
    "def summarize(url):\n",
    "    website = Website(url)\n",
    "    response = ollama.chat(\n",
    "        model = \"llama3.2\",\n",
    "        messages = messages_for(website)\n",
    "    )\n",
    "    return response['message']['content']"
   ]
  },
  {
   "cell_type": "code",
   "execution_count": 13,
   "id": "57e333c6",
   "metadata": {},
   "outputs": [],
   "source": [
    "def display_summary(url):\n",
    "    summary = summarize(url)\n",
    "    display(Markdown(summary))"
   ]
  },
  {
   "cell_type": "code",
   "execution_count": 14,
   "id": "81ccba51",
   "metadata": {},
   "outputs": [
    {
     "data": {
      "text/markdown": [
       "El texto proporcionado no es un artículo de noticias ni un contenido específico de la página MARCA, sino más bien una sección de resultados y clasificaciones del fútbol español y europeo, así como noticias relacionadas con el deporte. No contienen información sobre un evento específico o contenido relevante que se pueda resumir o analizar."
      ],
      "text/plain": [
       "<IPython.core.display.Markdown object>"
      ]
     },
     "metadata": {},
     "output_type": "display_data"
    }
   ],
   "source": [
    "display_summary(\"https://marca.com\")"
   ]
  }
 ],
 "metadata": {
  "kernelspec": {
   "display_name": ".venv",
   "language": "python",
   "name": "python3"
  },
  "language_info": {
   "codemirror_mode": {
    "name": "ipython",
    "version": 3
   },
   "file_extension": ".py",
   "mimetype": "text/x-python",
   "name": "python",
   "nbconvert_exporter": "python",
   "pygments_lexer": "ipython3",
   "version": "3.11.11"
  }
 },
 "nbformat": 4,
 "nbformat_minor": 5
}
