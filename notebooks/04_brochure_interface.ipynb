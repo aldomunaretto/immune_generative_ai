{
 "cells": [
  {
   "cell_type": "markdown",
   "id": "8e6cf2b8",
   "metadata": {},
   "source": [
    "# Interfaz de Usuario para Generador de Brochures\n",
    "## Combinando el generador de brochures con una interfaz de Gradio\n",
    "\n",
    "Este notebook combina la funcionalidad del generador de brochures del notebook 02 con una interfaz de usuario amigable usando Gradio del notebook 03."
   ]
  },
  {
   "cell_type": "markdown",
   "id": "61031ab9",
   "metadata": {},
   "source": [
    "### Importamos las librerías necesarias"
   ]
  },
  {
   "cell_type": "code",
   "execution_count": null,
   "id": "3b9d5f03",
   "metadata": {},
   "outputs": [],
   "source": [
    "import requests\n",
    "import json\n",
    "from dotenv import load_dotenv\n",
    "from bs4 import BeautifulSoup\n",
    "from openai import OpenAI\n",
    "import gradio as gr"
   ]
  },
  {
   "cell_type": "markdown",
   "id": "5019c103",
   "metadata": {},
   "source": [
    "### Cargamos las variables del fichero .env e inicializamos OpenAI"
   ]
  },
  {
   "cell_type": "code",
   "execution_count": null,
   "id": "09367276",
   "metadata": {},
   "outputs": [],
   "source": [
    "load_dotenv()\n",
    "openai = OpenAI()\n",
    "MODEL = 'gpt-4o-mini'"
   ]
  },
  {
   "cell_type": "markdown",
   "id": "66b64565",
   "metadata": {},
   "source": [
    "### Clase Website para scrappear sitios web"
   ]
  },
  {
   "cell_type": "code",
   "execution_count": null,
   "id": "f39a186c",
   "metadata": {},
   "outputs": [],
   "source": [
    "class Website:\n",
    "    \"\"\"\n",
    "    Una clase de utilidad para representar un sitio web que hemos scrappeado, ahora con enlaces\n",
    "    \"\"\"\n",
    "\n",
    "    def __init__(self, url):\n",
    "        self.url = url\n",
    "        response = requests.get(url)\n",
    "        self.body = response.content\n",
    "        soup = BeautifulSoup(self.body, 'html.parser')\n",
    "        self.title = soup.title.string if soup.title else \"Sin título\"\n",
    "        if soup.body:\n",
    "            for irrelevant in soup.body([\"script\", \"style\", \"img\", \"input\"]):\n",
    "                irrelevant.decompose()\n",
    "            self.text = soup.body.get_text(separator=\"\\n\", strip=True)\n",
    "        else:\n",
    "            self.text = \"\"\n",
    "        links = [link.get('href') for link in soup.find_all('a')]\n",
    "        self.links = [link for link in links if link]\n",
    "\n",
    "    def get_contents(self):\n",
    "        return f\"Título de la Web:\\n{self.title}\\nContenido de la Web:\\n{self.text}\\n\\n\""
   ]
  },
  {
   "cell_type": "markdown",
   "id": "877b0086",
   "metadata": {},
   "source": [
    "### Configuración de prompts para obtener enlaces relevantes"
   ]
  },
  {
   "cell_type": "code",
   "execution_count": null,
   "id": "57866471",
   "metadata": {},
   "outputs": [],
   "source": [
    "link_system_prompt = \"\"\"Se te proporciona una lista de enlaces que se encuentran en una página web.\n",
    "Puedes decidir cuáles de los enlaces serían los más relevantes para incluir en un folleto sobre la empresa,\n",
    "como enlaces a una página Acerca de, una página de la empresa, las carreras/empleos disponibles o páginas de servicios.\n",
    "Debes responder en JSON como en este ejemplo:\n",
    "{\n",
    "    \"links\": [\n",
    "        {\"type\": \"Pagina Sobre nosotros\", \"url\": \"https://url.completa/aqui/va/sobre/nosotros\"},\n",
    "        {\"type\": \"Pagina de Seguros\", \"url\": \"https://otra.url.completa/seguros\"}\n",
    "    ]\n",
    "}\n",
    "\"\"\""
   ]
  },
  {
   "cell_type": "code",
   "execution_count": null,
   "id": "e61e1b33",
   "metadata": {},
   "outputs": [],
   "source": [
    "def get_links_user_prompt(website):\n",
    "    links_list = '\\n'.join(website.links)\n",
    "    user_prompt = f\"\"\"Aquí hay una lista de enlaces de la página web {website.url} - \n",
    "    Por favor, decide cuáles de estos son enlaces web relevantes para un folleto sobre la empresa. Responde con la URL https completa en formato JSON.\n",
    "    No incluyas Términos y Condiciones, Privacidad ni enlaces de correo electrónico.\n",
    "    Links (puede que algunos sean links relativos): {links_list}\"\"\"\n",
    "    return user_prompt"
   ]
  },
  {
   "cell_type": "code",
   "execution_count": null,
   "id": "aab09fb0",
   "metadata": {},
   "outputs": [],
   "source": [
    "def get_links(url):\n",
    "    website = Website(url)\n",
    "    response = openai.chat.completions.create(\n",
    "        model='gpt-4o-mini',\n",
    "        messages=[\n",
    "            {\"role\": \"system\", \"content\": link_system_prompt},\n",
    "            {\"role\": \"user\", \"content\": get_links_user_prompt(website)}\n",
    "      ],\n",
    "        response_format={\"type\": \"json_object\"}\n",
    "    )\n",
    "    result = response.choices[0].message.content\n",
    "    return json.loads(result)"
   ]
  },
  {
   "cell_type": "markdown",
   "id": "36940dc0",
   "metadata": {},
   "source": [
    "### Funciones para generar el brochure"
   ]
  },
  {
   "cell_type": "code",
   "execution_count": null,
   "id": "f5f04c35",
   "metadata": {},
   "outputs": [],
   "source": [
    "def get_all_details(url):\n",
    "    result = \"Landing page:\\n\"\n",
    "    result += Website(url).get_contents()\n",
    "    try:\n",
    "        links = get_links(url)\n",
    "        print(\"Links encontrados:\", links)\n",
    "        for link in links[\"links\"]:\n",
    "            result += f\"\\n\\n{link['type']}\\n\"\n",
    "            try:\n",
    "                result += Website(link[\"url\"]).get_contents()\n",
    "            except:\n",
    "                print(f\"Error al acceder al enlace: {link['url']}\")\n",
    "    except Exception as e:\n",
    "        print(f\"Error al obtener enlaces: {e}\")\n",
    "    return result"
   ]
  },
  {
   "cell_type": "code",
   "execution_count": null,
   "id": "068b7091",
   "metadata": {},
   "outputs": [],
   "source": [
    "system_prompt = \"\"\"Eres un asistente que analiza el contenido de varias páginas relevantes del sitio web de una empresa\n",
    "y crea un folleto breve sobre la empresa para posibles clientes, inversores y nuevos empleados. Responde en formato Markdown.\n",
    "Incluye detalles sobre la cultura de la empresa, los clientes, las carreras/empleos y los cursos/packs para futuros empleos si tienes la información.\"\"\""
   ]
  },
  {
   "cell_type": "code",
   "execution_count": null,
   "id": "6be26ffa",
   "metadata": {},
   "outputs": [],
   "source": [
    "def get_brochure_user_prompt(company_name, url):\n",
    "    user_prompt = f\"\"\"Estás mirando una empresa llamada: {company_name}. Aquí se encuentra el contenido de su página de inicio y otras páginas relevantes. \n",
    "                      Usa esta información para crear un breve folleto de la empresa en Markdown: {get_all_details(url)}\"\"\"\n",
    "    user_prompt = user_prompt[:20_000]\n",
    "    return user_prompt"
   ]
  },
  {
   "cell_type": "markdown",
   "id": "ad25d3bd",
   "metadata": {},
   "source": [
    "### Función principal para crear brochure con streaming"
   ]
  },
  {
   "cell_type": "code",
   "execution_count": null,
   "id": "f26e4e2e",
   "metadata": {},
   "outputs": [],
   "source": [
    "def create_brochure_streaming(company_name, url, progress=gr.Progress()):\n",
    "    \"\"\"\n",
    "    Crea un brochure con respuesta en streaming para una mejor experiencia de usuario\n",
    "    \"\"\"\n",
    "    try:\n",
    "        progress(0.1, desc=\"Analizando la página web...\")\n",
    "        \n",
    "        user_prompt = get_brochure_user_prompt(company_name, url)\n",
    "        \n",
    "        progress(0.5, desc=\"Generando brochure...\")\n",
    "        \n",
    "        stream = openai.chat.completions.create(\n",
    "            model=MODEL,\n",
    "            messages=[\n",
    "                {\"role\": \"system\", \"content\": system_prompt},\n",
    "                {\"role\": \"user\", \"content\": user_prompt}\n",
    "            ],\n",
    "            stream=True\n",
    "        )\n",
    "        \n",
    "        response = \"\"\n",
    "        for chunk in stream:\n",
    "            if chunk.choices[0].delta.content:\n",
    "                response += chunk.choices[0].delta.content\n",
    "                clean_response = response.replace(\"```\", \"\").replace(\"markdown\", \"\")\n",
    "                yield clean_response\n",
    "        \n",
    "        progress(1.0, desc=\"¡Brochure completado!\")\n",
    "        \n",
    "    except Exception as e:\n",
    "        error_message = f\"Error al generar el brochure: {str(e)}\"\n",
    "        yield error_message"
   ]
  },
  {
   "cell_type": "markdown",
   "id": "89a79a6c",
   "metadata": {},
   "source": [
    "### Interfaz de Gradio"
   ]
  },
  {
   "cell_type": "code",
   "execution_count": null,
   "id": "9280f55e",
   "metadata": {},
   "outputs": [],
   "source": [
    "def create_brochure_interface():\n",
    "    \"\"\"\n",
    "    Crea la interfaz de usuario de Gradio para el generador de brochures\n",
    "    \"\"\"\n",
    "    with gr.Blocks(title=\"Generador de Brochures Empresariales\", theme=gr.themes.Soft()) as demo:\n",
    "        gr.Markdown(\n",
    "            \"\"\"\n",
    "            # 📄 Generador de Brochures Empresariales\n",
    "            \n",
    "            Crea brochures profesionales para empresas analizando automáticamente su sitio web.\n",
    "            \n",
    "            **Instrucciones:**\n",
    "            1. Ingresa el nombre de la empresa\n",
    "            2. Proporciona la URL del sitio web de la empresa\n",
    "            3. Haz clic en \"Generar Brochure\" y espera el resultado\n",
    "            \n",
    "            El sistema analizará la página principal y páginas relevantes para crear un brochure completo.\n",
    "            \"\"\"\n",
    "        )\n",
    "        \n",
    "        with gr.Row():\n",
    "            with gr.Column(scale=1):\n",
    "                company_name = gr.Textbox(\n",
    "                    label=\"Nombre de la Empresa\",\n",
    "                    placeholder=\"Ej: Google, Microsoft, OpenAI...\",\n",
    "                    value=\"\"\n",
    "                )\n",
    "                \n",
    "                company_url = gr.Textbox(\n",
    "                    label=\"URL del Sitio Web\",\n",
    "                    placeholder=\"https://ejemplo.com\",\n",
    "                    value=\"\"\n",
    "                )\n",
    "                \n",
    "                generate_btn = gr.Button(\n",
    "                    \"🚀 Generar Brochure\",\n",
    "                    variant=\"primary\",\n",
    "                    size=\"lg\"\n",
    "                )\n",
    "                \n",
    "                gr.Markdown(\n",
    "                    \"\"\"\n",
    "                    ### Ejemplos para probar:\n",
    "                    - **Anthropic**: https://anthropic.com\n",
    "                    - **Hugging Face**: https://huggingface.co\n",
    "                    - **Aegon España**: https://www.aegon.es\n",
    "                    \"\"\"\n",
    "                )\n",
    "            \n",
    "            with gr.Column(scale=2):\n",
    "                brochure_output = gr.Markdown(\n",
    "                    label=\"Brochure Generado\",\n",
    "                    value=\"El brochure aparecerá aquí una vez que se genere...\",\n",
    "                    height=600\n",
    "                )\n",
    "        \n",
    "        generate_btn.click(\n",
    "            fn=create_brochure_streaming,\n",
    "            inputs=[company_name, company_url],\n",
    "            outputs=[brochure_output],\n",
    "            show_progress=True\n",
    "        )\n",
    "        \n",
    "        gr.Examples(\n",
    "            examples=[\n",
    "                [\"Anthropic\", \"https://anthropic.com\"],\n",
    "                [\"Hugging Face\", \"https://huggingface.co\"],\n",
    "                [\"Aegon España\", \"https://www.aegon.es\"]\n",
    "            ],\n",
    "            inputs=[company_name, company_url],\n",
    "            label=\"Ejemplos para probar\"\n",
    "        )\n",
    "    \n",
    "    return demo"
   ]
  },
  {
   "cell_type": "markdown",
   "id": "b6e7a0cd",
   "metadata": {},
   "source": [
    "### Lanzar la interfaz"
   ]
  },
  {
   "cell_type": "code",
   "execution_count": null,
   "id": "b45b1aab",
   "metadata": {},
   "outputs": [],
   "source": [
    "demo = create_brochure_interface()\n",
    "demo.launch(inline=False, share=False)  # Cambia a True si quieres compartir la interfaz públicamente"
   ]
  },
  {
   "cell_type": "markdown",
   "id": "77925ef3",
   "metadata": {},
   "source": [
    "### Versión alternativa con interfaz más simple"
   ]
  },
  {
   "cell_type": "code",
   "execution_count": null,
   "id": "1603d876",
   "metadata": {},
   "outputs": [],
   "source": [
    "def simple_brochure_generator(company_name, url):\n",
    "    \"\"\"\n",
    "    Simplified version for quick testing\n",
    "    \"\"\"\n",
    "    try:\n",
    "        user_prompt = get_brochure_user_prompt(company_name, url)\n",
    "        \n",
    "        response = openai.chat.completions.create(\n",
    "            model=MODEL,\n",
    "            messages=[\n",
    "                {\"role\": \"system\", \"content\": system_prompt},\n",
    "                {\"role\": \"user\", \"content\": user_prompt}\n",
    "            ]\n",
    "        )\n",
    "        \n",
    "        result = response.choices[0].message.content\n",
    "        return result.replace(\"```\", \"\").replace(\"markdown\", \"\")\n",
    "        \n",
    "    except Exception as e:\n",
    "        return f\"Error al generar el brochure: {str(e)}\""
   ]
  },
  {
   "cell_type": "markdown",
   "id": "975d6257",
   "metadata": {},
   "source": [
    "### Interfaz simple alternativa"
   ]
  },
  {
   "cell_type": "code",
   "execution_count": null,
   "id": "6ee098c8",
   "metadata": {},
   "outputs": [],
   "source": [
    "simple_interface = gr.Interface(\n",
    "    fn=simple_brochure_generator,\n",
    "    inputs=[\n",
    "        gr.Textbox(label=\"Nombre de la Empresa\", placeholder=\"Ej: Google\"),\n",
    "        gr.Textbox(label=\"URL del Sitio Web\", placeholder=\"https://ejemplo.com\")\n",
    "    ],\n",
    "    outputs=gr.Markdown(label=\"Brochure Generado\"),\n",
    "    title=\"🏢 Generador Simple de Brochures\",\n",
    "    description=\"Ingresa el nombre de la empresa y su URL para generar un brochure profesional.\",\n",
    "    examples=[\n",
    "        [\"Anthropic\", \"https://anthropic.com\"],\n",
    "        [\"Hugging Face\", \"https://huggingface.co\"]\n",
    "    ],\n",
    "    flagging_mode=\"never\"\n",
    ")\n",
    "simple_interface.launch(inline=False, share=False)"
   ]
  },
  {
   "cell_type": "code",
   "execution_count": null,
   "id": "4211ff22",
   "metadata": {},
   "outputs": [],
   "source": []
  }
 ],
 "metadata": {
  "kernelspec": {
   "display_name": ".venv",
   "language": "python",
   "name": "python3"
  },
  "language_info": {
   "codemirror_mode": {
    "name": "ipython",
    "version": 3
   },
   "file_extension": ".py",
   "mimetype": "text/x-python",
   "name": "python",
   "nbconvert_exporter": "python",
   "pygments_lexer": "ipython3",
   "version": "3.11.11"
  }
 },
 "nbformat": 4,
 "nbformat_minor": 5
}
