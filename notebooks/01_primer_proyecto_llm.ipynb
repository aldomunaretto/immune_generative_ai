{
 "cells": [
  {
   "cell_type": "markdown",
   "id": "d15d8294-3328-4e07-ad16-8a03e9bbfdb9",
   "metadata": {},
   "source": [
    "# ¡Tu primer proyecto con LLM en Python!"
   ]
  },
  {
   "cell_type": "markdown",
   "id": "8fd2bccf",
   "metadata": {},
   "source": [
    "[![Open in Colab](https://colab.research.google.com/assets/colab-badge.svg)](https://colab.research.google.com/github/aldomunaretto/immune_generative_ai/blob/main/notebooks/01_primer_proyecto_llm.ipynb)"
   ]
  },
  {
   "cell_type": "markdown",
   "id": "118c2992",
   "metadata": {},
   "source": [
    "### Importamos las librerias necesarias"
   ]
  },
  {
   "cell_type": "code",
   "execution_count": null,
   "id": "4e2a9393-7767-488e-a8bf-27c12dca35bd",
   "metadata": {},
   "outputs": [],
   "source": [
    "import os\n",
    "import requests\n",
    "from dotenv import load_dotenv\n",
    "from bs4 import BeautifulSoup\n",
    "from IPython.display import Markdown, display\n",
    "from openai import OpenAI"
   ]
  },
  {
   "cell_type": "markdown",
   "id": "6900b2a8-6384-4316-8aaa-5e519fca4254",
   "metadata": {},
   "source": [
    "# Conexión a OpenAI\n",
    "\n",
    "La siguiente celda es donde cargamos las variables de entorno en su archivo `.env` y nos conectamos a OpenAI."
   ]
  },
  {
   "cell_type": "markdown",
   "id": "e0b68359",
   "metadata": {},
   "source": [
    "### Cargamos las variables del fichero .env"
   ]
  },
  {
   "cell_type": "code",
   "execution_count": null,
   "id": "2249c899",
   "metadata": {},
   "outputs": [],
   "source": [
    "load_dotenv()"
   ]
  },
  {
   "cell_type": "markdown",
   "id": "863833a2",
   "metadata": {},
   "source": [
    "### Verificamos que la clave de API de OpenAI esté configurada correctamente"
   ]
  },
  {
   "cell_type": "code",
   "execution_count": null,
   "id": "7b87cadb-d513-4303-baee-a37b6f938e4d",
   "metadata": {},
   "outputs": [],
   "source": [
    "api_key = os.getenv('OPENAI_API_KEY')\n",
    "\n",
    "if not api_key:\n",
    "    print(\"No se encontró ninguna clave API: diríjase al cuaderno de resolución de problemas en esta carpeta para identificarla y solucionarla.\")\n",
    "elif not api_key.startswith(\"sk-proj-\"):\n",
    "    print(\"Se encontró una clave API, pero no inicia sk-proj-; verifique que esté usando la clave correcta; consulte el cuaderno de resolución de problemas\")\n",
    "elif api_key.strip() != api_key:\n",
    "    print(\"Se encontró una clave API, pero parece que puede tener espacios o caracteres de tabulación al principio o al final; elimínelos; consulte el cuaderno de resolución de problemas\")\n",
    "else:\n",
    "    print(\"¡Se encontró la clave API y hasta ahora parece buena!\")\n",
    "\n",
    "\n"
   ]
  },
  {
   "cell_type": "markdown",
   "id": "d9ec8bb4",
   "metadata": {},
   "source": [
    "### Ahora realizamos la conexión con la API de OpenAI."
   ]
  },
  {
   "cell_type": "code",
   "execution_count": null,
   "id": "019974d9-f3ad-4a8a-b5f9-0a3719aea2d3",
   "metadata": {},
   "outputs": [],
   "source": [
    "openai = OpenAI()"
   ]
  },
  {
   "cell_type": "markdown",
   "id": "0037e595",
   "metadata": {},
   "source": [
    "en caso de no tener configuras las varibales de entorno o no tener el fichero .env lo podemos hacer de la seiguente forma:\n",
    "\n",
    "~~~python\n",
    "openai = OpenAI(api_key=\"your-key-here-starting-sk-proj-\")\n",
    "~~~"
   ]
  },
  {
   "cell_type": "markdown",
   "id": "a2e0560f",
   "metadata": {},
   "source": [
    "## Clase Website para scrappear sitios web"
   ]
  },
  {
   "cell_type": "code",
   "execution_count": null,
   "id": "c5e793b2-6775-426a-a139-4848291d0463",
   "metadata": {},
   "outputs": [],
   "source": [
    "class Website:\n",
    "    \"\"\"\n",
    "    Una clase de utilidad para representar un sitio web que hemos scrappeado\n",
    "    \"\"\"\n",
    "\n",
    "    def __init__(self, url):\n",
    "        \"\"\"\n",
    "        Crea este objeto de sitio web a partir de la URL indicada utilizando la biblioteca BeautifulSoup\n",
    "        \"\"\"\n",
    "        self.url = url\n",
    "        response = requests.get(url)\n",
    "        soup = BeautifulSoup(response.content, 'html.parser')\n",
    "        self.title = soup.title.string if soup.title else \"No tiene título\"\n",
    "        for irrelevant in soup.body([\"script\", \"style\", \"img\", \"input\"]):\n",
    "            irrelevant.decompose()\n",
    "        self.text = soup.body.get_text(separator=\"\\n\", strip=True)"
   ]
  },
  {
   "cell_type": "markdown",
   "id": "b2129e19",
   "metadata": {},
   "source": [
    "### Vamos a probar"
   ]
  },
  {
   "cell_type": "code",
   "execution_count": null,
   "id": "2ef960cf-6dc2-4cda-afb3-b38be12f4c97",
   "metadata": {},
   "outputs": [],
   "source": [
    "marca = Website(\"https://marca.com\")\n",
    "print(marca.title)\n",
    "print(marca.text)"
   ]
  },
  {
   "cell_type": "markdown",
   "id": "6a478a0c-2c53-48ff-869c-4d08199931e1",
   "metadata": {},
   "source": [
    "## Tipos de indicaciones/prompts\n",
    "\n",
    "Quizás ya sepas esto, pero si no, te resultará muy familiar.\n",
    "\n",
    "Los modelos como GPT4o han sido entrenados para recibir instrucciones de una manera particular.\n",
    "\n",
    "Esperan recibir:\n",
    "\n",
    "- **Una indicación del sistema** que les indique qué tarea están realizando y qué tono deben usar\n",
    "\n",
    "- **Una indicación del usuario**: el inicio de la conversación al que deben responder"
   ]
  },
  {
   "cell_type": "markdown",
   "id": "d38ef6fa",
   "metadata": {},
   "source": [
    "### Definimos nuestro mensaje de sistema:"
   ]
  },
  {
   "cell_type": "code",
   "execution_count": null,
   "id": "abdb8417-c5dc-44bc-9bee-2e059d162699",
   "metadata": {},
   "outputs": [],
   "source": [
    "system_prompt = \"\"\" Eres un asistente que analiza el contenido de un sitio web\n",
    "y proporciona un breve resumen, ignorando el texto que podría estar relacionado con la navegación.\n",
    "Responder en Markdown en español.\"\"\""
   ]
  },
  {
   "cell_type": "markdown",
   "id": "b0a8e840",
   "metadata": {},
   "source": [
    "### Definimos una función que escribe un mensaje de usuario que solicita resúmenes de sitios web:\n",
    "\n",
    "~~~python\n",
    "def user_prompt_for(website):\n",
    "    user_prompt = f\"\"\"\n",
    "    Estás viendo un sitio web titulado {website.title}. \n",
    "    El contenido de este sitio web es el siguiente: {website.text}.\n",
    "    Si incluye noticias, productos o anuncios, resúmelos también.\n",
    "    \"\"\"\n",
    "    return user_prompt\n",
    "~~~~\n",
    "\n",
    "#### como no todos los sitios tienen este formato podriamos la clase Website devolveria una estructura que haria necesesario cambiar esta función. Podriamos proponer esta:\n",
    "\n",
    "~~~python\n",
    "def user_prompt_for(website):\n",
    "    user_prompt = f\"\"\"\n",
    "    Estás viendo un sitio web titulado {website[\"title\"]}. \n",
    "    El contenido de este sitio web es el siguiente: {website[\"content\"]}.\n",
    "    Si incluye noticias, productos o anuncios, resúmelos también.\n",
    "    \"\"\"\n",
    "    return user_prompt\n",
    "~~~"
   ]
  },
  {
   "cell_type": "markdown",
   "id": "b4a73ef3",
   "metadata": {},
   "source": [
    "### Finalmente definimos una que tome todo en cuenta:"
   ]
  },
  {
   "cell_type": "code",
   "execution_count": null,
   "id": "dd4d4f2d",
   "metadata": {},
   "outputs": [],
   "source": [
    "def user_prompt_for(website):\n",
    "    title = getattr(website, \"title\", None)\n",
    "    if title is None and isinstance(website, dict):\n",
    "        title = website.get(\"title\", \"\")\n",
    "    text = getattr(website, \"text\", None)\n",
    "    if text is None and isinstance(website, dict):\n",
    "        text = website.get(\"content\", \"\")\n",
    "    user_prompt = f\"\"\"\n",
    "    Estás viendo un sitio web titulado {title}.\n",
    "    El contenido de este sitio web es el siguiente: {text}.\n",
    "    Si incluye noticias, productos o anuncios, resúmelos también.\n",
    "    \"\"\"\n",
    "    return user_prompt"
   ]
  },
  {
   "cell_type": "code",
   "execution_count": null,
   "id": "26448ec4-5c00-4204-baec-7df91d11ff2e",
   "metadata": {},
   "outputs": [],
   "source": [
    "print(user_prompt_for(marca))"
   ]
  },
  {
   "cell_type": "markdown",
   "id": "ea211b5f-28e1-4a86-8e52-c0b7677cadcc",
   "metadata": {},
   "source": [
    "## Mensajes\n",
    "\n",
    "La API de OpenAI espera recibir mensajes en una estructura particular.\n",
    "Muchas de las otras API comparten esta estructura:\n",
    "\n",
    "```\n",
    "[\n",
    "    {\"role\": \"system\", \"content\": \"el mensaje de sistema va aquí\"},\n",
    "    {\"role\": \"user\", \"content\": \"el mensaje de usuario va aquí\"}\n",
    "]"
   ]
  },
  {
   "cell_type": "code",
   "execution_count": null,
   "id": "0134dfa4-8299-48b5-b444-f2a8c3403c88",
   "metadata": {},
   "outputs": [],
   "source": [
    "# Puedes ver cómo esta función crea exactamente el formato anterior\n",
    "\n",
    "def messages_for(website):\n",
    "    return [\n",
    "        {\"role\": \"system\", \"content\": system_prompt},\n",
    "        {\"role\": \"user\", \"content\": user_prompt_for(website)}\n",
    "    ]"
   ]
  },
  {
   "cell_type": "code",
   "execution_count": null,
   "id": "36478464-39ee-485c-9f3f-6a4e458dbc9c",
   "metadata": {},
   "outputs": [],
   "source": [
    "messages_for(marca)"
   ]
  },
  {
   "cell_type": "markdown",
   "id": "16f49d46-bf55-4c3e-928f-68fc0bf715b0",
   "metadata": {},
   "source": [
    "## Es hora de unirlo todo: ¡la API para OpenAI es muy simple!"
   ]
  },
  {
   "cell_type": "code",
   "execution_count": null,
   "id": "905b9919-aba7-45b5-ae65-81b3d1d78e34",
   "metadata": {},
   "outputs": [],
   "source": [
    "# Y ahora: llama a la API de OpenAI. ¡Te resultará muy familiar!\n",
    "\n",
    "def summarize(url):\n",
    "    website = Website(url)\n",
    "    response = openai.chat.completions.create(\n",
    "        model = \"gpt-4o-mini\",\n",
    "        messages = messages_for(website)\n",
    "    )\n",
    "    return response.choices[0].message.content"
   ]
  },
  {
   "cell_type": "code",
   "execution_count": null,
   "id": "05e38d41-dfa4-4b20-9c96-c46ea75d9fb5",
   "metadata": {},
   "outputs": [],
   "source": [
    "summarize(\"https://marca.com\")"
   ]
  },
  {
   "cell_type": "markdown",
   "id": "0f6f0359",
   "metadata": {},
   "source": [
    "### Una función para mostrar esto de forma clara en la salida de Jupyter, usando markdown"
   ]
  },
  {
   "cell_type": "code",
   "execution_count": null,
   "id": "3d926d59-450e-4609-92ba-2d6f244f1342",
   "metadata": {},
   "outputs": [],
   "source": [
    "\n",
    "def display_summary(url):\n",
    "    summary = summarize(url)\n",
    "    display(Markdown(summary))"
   ]
  },
  {
   "cell_type": "code",
   "execution_count": null,
   "id": "3018853a-445f-41ff-9560-d925d1774b2f",
   "metadata": {},
   "outputs": [],
   "source": [
    "display_summary(\"https://marca.com\")"
   ]
  },
  {
   "cell_type": "markdown",
   "id": "b3bcf6f4-adce-45e9-97ad-d9a5d7a3a624",
   "metadata": {},
   "source": [
    "# Probemos con más sitios web\n",
    "\n",
    "Ten en cuenta que esto solo funcionará en sitios web que se puedan extraer con este enfoque simplista.\n",
    "\n",
    "Los sitios web que se renderizan con Javascript, como las aplicaciones React, no se mostrarán. Resolveremso esto más adelante con una implementación de Selenium que solucione este problema. \n",
    "\n",
    "Además, los sitios web protegidos con CloudFront (y similares) pueden generar errores 403.\n",
    "\n",
    "¡Pero muchos sitios web funcionarán perfectamente!"
   ]
  },
  {
   "cell_type": "code",
   "execution_count": null,
   "id": "45d83403-a24c-44b5-84ac-961449b4008f",
   "metadata": {},
   "outputs": [],
   "source": [
    "display_summary(\"https://cnn.com\")"
   ]
  },
  {
   "cell_type": "code",
   "execution_count": null,
   "id": "75e9fd40-b354-4341-991e-863ef2e59db7",
   "metadata": {},
   "outputs": [],
   "source": [
    "display_summary(\"https://anthropic.com\")"
   ]
  },
  {
   "cell_type": "code",
   "execution_count": null,
   "id": "682eff74-55c4-4d4b-b267-703edbc293c7",
   "metadata": {},
   "outputs": [],
   "source": [
    "display_summary(\"https://openai.com\")"
   ]
  },
  {
   "cell_type": "markdown",
   "id": "4c09bcbd",
   "metadata": {},
   "source": [
    "### Para aquellos casos donde la página esta diseñada utilizando JavaScript o algunos de sus framework\n",
    "Primero descarga el controlador (driver) de chorme desde la siguiente dirección: https://googlechromelabs.github.io/chrome-for-testing/"
   ]
  },
  {
   "cell_type": "code",
   "execution_count": null,
   "id": "08af21f3",
   "metadata": {},
   "outputs": [],
   "source": [
    "from selenium import webdriver\n",
    "from selenium.webdriver.chrome.service import Service\n",
    "from selenium.webdriver.common.by import By\n",
    "from selenium.webdriver.chrome.options import Options\n",
    "import time\n",
    "\n",
    "class Website:\n",
    "    url: str\n",
    "    title: str\n",
    "    text: str\n",
    "\n",
    "    def __init__(self, url):\n",
    "        self.url = url\n",
    "\n",
    "        options = Options()\n",
    "\n",
    "        options.add_argument(\"--no-sandbox\")\n",
    "        options.add_argument(\"--disable-dev-shm-usage\")\n",
    "\n",
    "        service = Service(\"chromedriver-mac-arm64/chromedriver\")\n",
    "        driver = webdriver.Chrome(service=service, options=options)\n",
    "        driver.get(url)\n",
    "\n",
    "        input(\"Please complete the verification in the browser and press Enter to continue...\")\n",
    "        page_source = driver.page_source\n",
    "        driver.quit()\n",
    "\n",
    "        soup = BeautifulSoup(page_source, 'html.parser')\n",
    "        self.title = soup.title.string if soup.title else \"No title found\"\n",
    "        for irrelevant in soup([\"script\", \"style\", \"img\", \"input\"]):\n",
    "            irrelevant.decompose()\n",
    "        self.text = soup.get_text(separator=\"\\n\", strip=True)"
   ]
  },
  {
   "cell_type": "code",
   "execution_count": null,
   "id": "61cec082",
   "metadata": {},
   "outputs": [],
   "source": [
    "display_summary(\"https://anthropic.com\")"
   ]
  },
  {
   "cell_type": "code",
   "execution_count": null,
   "id": "cffcb42d",
   "metadata": {},
   "outputs": [],
   "source": [
    "display_summary(\"https://openai.com\")"
   ]
  },
  {
   "cell_type": "markdown",
   "id": "c0624644",
   "metadata": {},
   "source": [
    "### Creamos una Clase que utiliza Selenium para cargar y extraer el contenido de páginas web dinámicas."
   ]
  },
  {
   "cell_type": "code",
   "execution_count": null,
   "id": "0dc93bed",
   "metadata": {},
   "outputs": [],
   "source": [
    "class DynamicWebsiteScraper:\n",
    "    def __init__(self, driver_path):\n",
    "        try:\n",
    "            print(\"🔄 Creando instancia de DynamicWebsiteScraper...\")\n",
    "            options = Options()\n",
    "            options.add_argument(\"--disable-gpu\")\n",
    "            options.add_argument(\"--no-sandbox\")\n",
    "            options.add_argument(\"--disable-dev-shm-usage\")\n",
    "            self.driver_service = Service(driver_path)\n",
    "            self.driver = webdriver.Chrome(service=self.driver_service, options=options)\n",
    "            print(\"✅ DynamicWebsiteScraper inicializado correctamente.\\n\")\n",
    "        except Exception as e:\n",
    "            print(f\"❌ Error al inicializar DynamicWebsiteScraper: {e}\")\n",
    "\n",
    "    def scrape(self, url, wait_time=5):\n",
    "        try:\n",
    "            self.driver.get(url)\n",
    "            time.sleep(wait_time)\n",
    "            page_source = self.driver.page_source\n",
    "            soup = BeautifulSoup(page_source, 'html.parser')\n",
    "            title = soup.title.string if soup.title else \"No tiene título\"\n",
    "            for tag in soup([\"script\", \"style\", \"img\", \"input\"]):\n",
    "                tag.decompose()\n",
    "            content = soup.get_text(separator=\"\\n\", strip=True)\n",
    "            return {\"title\": title, \"content\": content}\n",
    "        except Exception as e:\n",
    "            print(f\"❌ Error durante el scraping: {e}\")\n",
    "            return {\"title\": \"Error\", \"content\": \"\"}\n",
    "\n",
    "    def close(self):\n",
    "        try:\n",
    "            self.driver.quit()\n",
    "            print(\"✅ Navegador cerrado correctamente.\\n\")\n",
    "        except Exception as e:\n",
    "            print(f\"❌ Error al cerrar el navegador: {e}\")"
   ]
  },
  {
   "cell_type": "code",
   "execution_count": null,
   "id": "98f0ce66",
   "metadata": {},
   "outputs": [],
   "source": [
    "scraper = DynamicWebsiteScraper(\"chromedriver-mac-arm64/chromedriver\")"
   ]
  },
  {
   "cell_type": "markdown",
   "id": "fa2df089",
   "metadata": {},
   "source": [
    "### Volvemos a crear la función para generar un resumen"
   ]
  },
  {
   "cell_type": "code",
   "execution_count": null,
   "id": "f68bd325",
   "metadata": {},
   "outputs": [],
   "source": [
    "def summarize(url, scraper):\n",
    "    \"\"\"\n",
    "    Realiza el scraping del sitio web y utiliza la API de OpenAI para generar un resumen.\n",
    "    :param url: URL del sitio web\n",
    "    :param scraper: Instancia de DynamicWebsiteScraper\n",
    "    :return: Resumen en Markdown\n",
    "    \"\"\"\n",
    "    try:\n",
    "        print(f\"🔄 Realizando scraping en la URL: {url}\")\n",
    "        website = scraper.scrape(url)  # Usamos el scraper para obtener el contenido dinámico\n",
    "        print(website)\n",
    "        print(f\"✅ Scraping completado con éxito en la URL: {url}\\n\")\n",
    "\n",
    "        print(\"🔄 Generando el resumen a través de la API de OpenAI...\")\n",
    "        response = openai.chat.completions.create(\n",
    "            model=\"gpt-4o-mini\",  # Modelo a usar\n",
    "            messages=messages_for(website)  # Mensajes generados a partir del contenido scrapeado\n",
    "        )\n",
    "        print(\"✅ Resumen generado correctamente.\\n\")\n",
    "        return response.choices[0].message.content\n",
    "    except Exception as e:\n",
    "        print(f\"❌ Error al generar el resumen: {e}\")\n",
    "        return \"Error al generar el resumen.\""
   ]
  },
  {
   "cell_type": "markdown",
   "id": "ec5e5b52",
   "metadata": {},
   "source": [
    "### Rehacemos la función que genera y muestra el resumen de un sitio web en formato Markdown utilizando un scraper:"
   ]
  },
  {
   "cell_type": "code",
   "execution_count": null,
   "id": "c1011be7",
   "metadata": {},
   "outputs": [],
   "source": [
    "def display_summary(url, scraper):\n",
    "    try:\n",
    "        print(f\"🔄 Iniciando el proceso para generar el resumen del sitio web: {url}\")\n",
    "        summary = summarize(url, scraper)  # Llamada a summarize con url y scraper\n",
    "        \n",
    "        if summary.startswith(\"Error\"):\n",
    "            print(f\"❌ No se pudo generar el resumen para: {url}\")\n",
    "        else:\n",
    "            print(f\"✅ Resumen generado correctamente para: {url}\\n\")\n",
    "            display(Markdown(summary))  # Mostrar el resumen en Markdown\n",
    "    except Exception as e:\n",
    "        print(f\"❌ Ocurrió un error durante la visualización del resumen: {e}\")"
   ]
  },
  {
   "cell_type": "code",
   "execution_count": null,
   "id": "34530dd9",
   "metadata": {},
   "outputs": [],
   "source": [
    "display_summary(\"https://anthropic.com\", scraper)"
   ]
  },
  {
   "cell_type": "code",
   "execution_count": null,
   "id": "ebb8b65e",
   "metadata": {},
   "outputs": [],
   "source": [
    "display_summary(\"https://openai.com\", scraper)"
   ]
  }
 ],
 "metadata": {
  "kernelspec": {
   "display_name": "Python 3",
   "language": "python",
   "name": "python3"
  },
  "language_info": {
   "codemirror_mode": {
    "name": "ipython",
    "version": 3
   },
   "file_extension": ".py",
   "mimetype": "text/x-python",
   "name": "python",
   "nbconvert_exporter": "python",
   "pygments_lexer": "ipython3",
   "version": "3.11.11"
  }
 },
 "nbformat": 4,
 "nbformat_minor": 5
}
