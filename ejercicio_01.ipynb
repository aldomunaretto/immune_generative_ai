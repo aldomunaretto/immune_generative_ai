{
 "cells": [
  {
   "cell_type": "markdown",
   "id": "d15d8294-3328-4e07-ad16-8a03e9bbfdb9",
   "metadata": {},
   "source": [
    "# TAREA DE EJERCICIO\n",
    "\n",
    "Actualiza el proyecto del día 1 para resumir una página web y utilizar un modelo de código abierto que se ejecute localmente a través de Ollama en lugar de OpenAI\n",
    "\n",
    "Podrás utilizar esta técnica para todos los proyectos posteriores si prefiere no utilizar API de pago (closed source).\n",
    "\n",
    "**Beneficios:**\n",
    "1. Sin cargos por API: código abierto\n",
    "2. Los datos no salen de su ordenador\n",
    "\n",
    "**Desventajas:**\n",
    "1. Tiene mucha menos potencia (parámetros) que el modelo Frontier\n",
    "\n",
    "## Resumen de la instalación de Ollama\n",
    "\n",
    "¡Simplemente visita [ollama.com](https://ollama.com) e instálalo!\n",
    "\n",
    "Una vez que hayas terminado, el servidor ollama ya debería estar ejecutándose localmente.\n",
    "Si entras en:\n",
    "[http://localhost:11434/](http://localhost:11434/)\n",
    "\n",
    "Debería ver el mensaje `Ollama se está ejecutando`.\n",
    "\n",
    "De lo contrario, abre una nueva Terminal (Mac) o Powershell (Windows) e introduce `ollama serve`.\n",
    "Luego, intenta entrar em [http://localhost:11434/](http://localhost:11434/) nuevamente."
   ]
  },
  {
   "cell_type": "code",
   "execution_count": 1,
   "id": "4e2a9393-7767-488e-a8bf-27c12dca35bd",
   "metadata": {},
   "outputs": [],
   "source": [
    "# imports\n",
    "\n",
    "import requests\n",
    "from bs4 import BeautifulSoup\n",
    "from IPython.display import Markdown, display"
   ]
  },
  {
   "cell_type": "code",
   "execution_count": 2,
   "id": "29ddd15d-a3c5-4f4e-a678-873f56162724",
   "metadata": {},
   "outputs": [],
   "source": [
    "# Constantes\n",
    "\n",
    "OLLAMA_API = \"http://localhost:11434/api/chat\"\n",
    "HEADERS = {\"Content-Type\": \"application/json\"}\n",
    "MODEL = \"llama3.2\""
   ]
  },
  {
   "cell_type": "code",
   "execution_count": 3,
   "id": "dac0a679-599c-441f-9bf2-ddc73d35b940",
   "metadata": {},
   "outputs": [],
   "source": [
    "# Crea una lista de mensajes utilizando el mismo formato que usamos para OpenAI\n",
    "\n",
    "messages = [\n",
    "    {\"role\": \"user\", \"content\": \"Describe algunas de las aplicaciones comerciales de la IA generativa.\"}\n",
    "]"
   ]
  },
  {
   "cell_type": "code",
   "execution_count": 4,
   "id": "7bb9c624-14f0-4945-a719-8ddb64f66f47",
   "metadata": {},
   "outputs": [],
   "source": [
    "payload = {\n",
    "        \"model\": MODEL,\n",
    "        \"messages\": messages,\n",
    "        \"stream\": False\n",
    "    }"
   ]
  },
  {
   "cell_type": "code",
   "execution_count": 5,
   "id": "42b9f644-522d-4e05-a691-56e7658c0ea9",
   "metadata": {},
   "outputs": [
    {
     "name": "stdout",
     "output_type": "stream",
     "text": [
      "La inteligencia artificial (IA) generativa se refiere al uso de técnicas de aprendizaje automático y algoritmos para generar contenido, productos o servicios que no existen previamente. A continuación, se describen algunas de las aplicaciones comerciales más significativas de la IA generativa:\n",
      "\n",
      "1. **Generación de contenido**: La IA generativa puede crear contenido como textos, imágenes, videos y audio en un momento determinado. Esto se utiliza para:\n",
      " * Generar contenido de marketing y publicidad personalizado.\n",
      " * Crear contenido de redes sociales automático.\n",
      " * Generar artículos de noticias y blogs.\n",
      "\n",
      "2. **Diseño asistido por computadora (ADC)**: La IA generativa puede diseñar productos, como ropa, accesorios y decoraciones, que pueden ser fabricados a medida. Esto se utiliza para:\n",
      " * Crear diseños personalizados para la moda.\n",
      " * Diseñar productos de diseño industrial.\n",
      "\n",
      "3. **Generación de música**: La IA generativa puede crear música original utilizando algoritmos y patrones musicales. Esto se utiliza para:\n",
      " * Crear contenido musical para anuncios, películas y programas de televisión.\n",
      " * Generar música para videojuegos y aplicaciones móviles.\n",
      "\n",
      "4. **Modelos de reconocimiento facial**: La IA generativa puede crear modelos de reconocimiento facial que pueden ser utilizados en aplicaciones como la autenticación facial y el análisis de expresiones faciales. Esto se utiliza para:\n",
      " * Crear sistemas de seguridad más seguros.\n",
      " * Analizar emociones humanas.\n",
      "\n",
      "5. **Generación de productos de consumo**: La IA generativa puede diseñar productos de consumo, como juguetes, ropa y accesorios. Esto se utiliza para:\n",
      " * Crear productos personalizados a medida.\n",
      " * Diseñar productos innovadores y creativos.\n",
      "\n",
      "6. **Simulación de escenarios**: La IA generativa puede simular escenarios de negocios y crear modelos de predicción para ayudar a las empresas a tomar decisiones informadas. Esto se utiliza para:\n",
      " * Crear simulaciones de mercado y predictores de ventas.\n",
      " * Analizar impactos económicos y sociales.\n",
      "\n",
      "7. **Generación de textos automáticos**: La IA generativa puede generar textos automáticos, como correos electrónicos, mensajes de texto y contenido de marketing. Esto se utiliza para:\n",
      " * Crear contenido de marketing personalizado y eficiente.\n",
      " * Automatizar la comunicación con los clientes.\n",
      "\n",
      "8. **Creación de perfiles personalizados**: La IA generativa puede crear perfiles personalizados de productos e servicios para cada cliente. Esto se utiliza para:\n",
      " * Ofrecer recomendaciones de producto personalizadas.\n",
      " * Crear experiencias de compras inmersivas.\n",
      "\n",
      "9. **Generación de contenido de video**: La IA generativa puede crear contenido de video, como videos musicales y anuncios publicitarios. Esto se utiliza para:\n",
      " * Crear contenido de marketing visual y efectivo.\n",
      " * Generar contenido educativo y informativo.\n",
      "\n",
      "10. **Modelos de procesamiento de lenguaje natural (PLN)**: La IA generativa puede crear modelos de procesamiento de lenguaje natural que pueden ser utilizados en aplicaciones como la traducción automática y el análisis de sentimiento. Esto se utiliza para:\n",
      " * Crear sistemas de traducción automática más precisos.\n",
      " * Analizar opíns y emociones humanas.\n",
      "\n",
      "En resumen, las aplicaciones comerciales de la IA generativa son vastas y diversificadas, abarcando desde la creación de contenido hasta la simulación de escenarios. La IA generativa puede revolucionar la forma en que las empresas crean y marketing a sus productos y servicios.\n"
     ]
    }
   ],
   "source": [
    "response = requests.post(OLLAMA_API, json=payload, headers=HEADERS)\n",
    "print(response.json()['message']['content'])"
   ]
  },
  {
   "cell_type": "markdown",
   "id": "6a021f13-d6a1-4b96-8e18-4eae49d876fe",
   "metadata": {},
   "source": [
    "# Presentación del paquete ollama\n",
    "\n",
    "Ahora haremos lo mismo, pero utilizando el elegante paquete de Python ollama en lugar de una llamada HTTP directa.\n",
    "\n",
    "En esencia, se realiza la misma llamada que se indicó anteriormente al servidor ollama que se ejecuta en localhost:11434"
   ]
  },
  {
   "cell_type": "code",
   "execution_count": 6,
   "id": "7745b9c4-57dc-4867-9180-61fa5db55eb8",
   "metadata": {},
   "outputs": [
    {
     "name": "stdout",
     "output_type": "stream",
     "text": [
      "La inteligencia artificial (IA) generativa es una subrama de la inteligencia artificial que se centra en el creación y la producción de contenido a partir de patrones y estructuras aprendidas del entrenamiento de datos. A continuación, te presento algunas de las aplicaciones comerciales más interesantes de la IA generativa:\n",
      "\n",
      "1. **Diseño de productos**: La IA generativa puede diseñar productos virtuales, como ropa, accesorios y muebles, utilizando técnicas de aprendizaje automático para crear patrones y formas únicas.\n",
      "2. **Gestión de contenido**: La IA generativa se utiliza para generar contenido automático, como artículos de blog, redes sociales, correos electrónicos y más, lo que puede ahorrar tiempo y recursos para los equipos de marketing.\n",
      "3. **Modelado de datos**: La IA generativa se utiliza para crear modelos de datos complejos, como patrones de comportamiento de clientes, tendencias en el mercado y análisis de datos, lo que puede ayudar a tomar decisiones más informadas.\n",
      "4. **Generación de música y audio**: La IA generativa se utiliza para crear música y audio original, lo que puede ser utilizado en aplicaciones de entretenimiento, publicidad y más.\n",
      "5. **Diseño gráfico**: La IA generativa se utiliza para diseñar gráficos, ilustraciones y animaciones, lo que puede ahorrar tiempo y recursos para los equipos de diseño.\n",
      "6. **Análisis de imágenes**: La IA generativa se utiliza para analizar imágenes y detectar objetos, patrones y comportamientos, lo que puede ser utilizado en aplicaciones como la vigilancia y la seguridad.\n",
      "7. **Creación de personalizadas experiencias del cliente**: La IA generativa se utiliza para crear experiencias del cliente personalizadas, como recomendaciones de productos y contenido relevantes.\n",
      "8. **Generación de texto**: La IA generativa se utiliza para generar texto automático, como artículos de noticias, correos electrónicos y más, lo que puede ahorrar tiempo y recursos para los equipos de redacción.\n",
      "\n",
      "Algunas de las empresas que están utilizando la IA generativa en sus aplicaciones comerciales incluyen:\n",
      "\n",
      "* Google: utiliza la IA generativa para crear imágenes y videos de alta calidad.\n",
      "* Amazon: utiliza la IA generativa para crear contenido automático, como artículos de blog y recomendaciones de productos.\n",
      "* Microsoft: utiliza la IA generativa para crear experiencias del cliente personalizadas, como recomendaciones de software y servicios.\n",
      "* Adobe: utiliza la IA generativa para diseñar gráficos, ilustraciones y animaciones.\n",
      "\n",
      "En resumen, la IA generativa tiene una amplia gama de aplicaciones comerciales que pueden ayudar a las empresas a ahorrar tiempo y recursos, mejorar su eficiencia y aumentar sus ingresos.\n"
     ]
    }
   ],
   "source": [
    "import ollama\n",
    "\n",
    "response = ollama.chat(model=MODEL, messages=messages)\n",
    "print(response['message']['content'])"
   ]
  },
  {
   "cell_type": "markdown",
   "id": "1622d9bb-5c68-4d4e-9ca4-b492c751f898",
   "metadata": {},
   "source": [
    "# AHORA el ejercicio para ti\n",
    "\n",
    "Toma el código del día 1 e incorpóralo aquí para crear un resumidor de sitios web que use Llama 3.2 ejecutándose localmente en lugar de OpenAI"
   ]
  },
  {
   "cell_type": "code",
   "execution_count": 9,
   "id": "4a3d6881-35af-469e-a8ff-a8b62b721d95",
   "metadata": {},
   "outputs": [],
   "source": [
    "from selenium import webdriver\n",
    "from selenium.webdriver.chrome.service import Service\n",
    "from selenium.webdriver.common.by import By\n",
    "from selenium.webdriver.chrome.options import Options\n",
    "import time\n",
    "\n",
    "class Website:\n",
    "    url: str\n",
    "    title: str\n",
    "    text: str\n",
    "\n",
    "    def __init__(self, url):\n",
    "        self.url = url\n",
    "\n",
    "        options = Options()\n",
    "\n",
    "        options.add_argument(\"--no-sandbox\")\n",
    "        options.add_argument(\"--disable-dev-shm-usage\")\n",
    "\n",
    "        service = Service(\"chromedriver-mac-arm64/chromedriver\")\n",
    "        driver = webdriver.Chrome(service=service, options=options)\n",
    "        driver.get(url)\n",
    "\n",
    "        input(\"Please complete the verification in the browser and press Enter to continue...\")\n",
    "        page_source = driver.page_source\n",
    "        driver.quit()\n",
    "\n",
    "        soup = BeautifulSoup(page_source, 'html.parser')\n",
    "        self.title = soup.title.string if soup.title else \"No title found\"\n",
    "        for irrelevant in soup([\"script\", \"style\", \"img\", \"input\"]):\n",
    "            irrelevant.decompose()\n",
    "        self.text = soup.get_text(separator=\"\\n\", strip=True)"
   ]
  },
  {
   "cell_type": "code",
   "execution_count": 10,
   "id": "8b93f1b0",
   "metadata": {},
   "outputs": [],
   "source": [
    "system_prompt = \"\"\" Eres un asistente que analiza el contenido de un sitio web\n",
    "y proporciona un breve resumen, ignorando el texto que podría estar relacionado con la navegación.\n",
    "Responder en Markdown.\"\"\""
   ]
  },
  {
   "cell_type": "code",
   "execution_count": 11,
   "id": "59a648b6",
   "metadata": {},
   "outputs": [],
   "source": [
    "def user_prompt_for(website):\n",
    "    user_prompt = f\"\"\"\n",
    "    Estás viendo un sitio web titulado {website.title}. \n",
    "    El contenido de este sitio web es el siguiente: {website.text}.\n",
    "    Si incluye noticias, productos o anuncios, resúmelos también.\n",
    "    \"\"\"\n",
    "    return user_prompt"
   ]
  },
  {
   "cell_type": "code",
   "execution_count": 12,
   "id": "250e28a1",
   "metadata": {},
   "outputs": [],
   "source": [
    "def messages_for(website):\n",
    "    return [\n",
    "        {\"role\": \"system\", \"content\": system_prompt},\n",
    "        {\"role\": \"user\", \"content\": user_prompt_for(website)}\n",
    "    ]"
   ]
  },
  {
   "cell_type": "code",
   "execution_count": 13,
   "id": "449d6310",
   "metadata": {},
   "outputs": [],
   "source": [
    "def summarize(url):\n",
    "    website = Website(url)\n",
    "    response = ollama.chat(\n",
    "        model = \"llama3.2\",\n",
    "        messages = messages_for(website)\n",
    "    )\n",
    "    return response['message']['content']"
   ]
  },
  {
   "cell_type": "code",
   "execution_count": 14,
   "id": "57e333c6",
   "metadata": {},
   "outputs": [],
   "source": [
    "def display_summary(url):\n",
    "    summary = summarize(url)\n",
    "    display(Markdown(summary))"
   ]
  },
  {
   "cell_type": "code",
   "execution_count": 15,
   "id": "81ccba51",
   "metadata": {},
   "outputs": [
    {
     "data": {
      "text/markdown": [
       "El artículo no proporciona un texto específico para ser resumido o discutido. Se trata de una página web de noticias y contenido general sobre deportes, entretenimiento y otros temas, donde se presentan varios artículos y noticias actualizadas.\n",
       "\n",
       "Si deseas, puedo ayudarte a:\n",
       "\n",
       "1. Resumir el contenido general de la página.\n",
       "2. Identificar los artículos o noticias específicas que podrías estar interesado en discutir.\n",
       "3. Proporcionar información sobre cómo acceder y navegar por la página web.\n",
       "4. Otra cosa (pulsa \"¿Cuál es tu solicitud?\")"
      ],
      "text/plain": [
       "<IPython.core.display.Markdown object>"
      ]
     },
     "metadata": {},
     "output_type": "display_data"
    }
   ],
   "source": [
    "display_summary(\"https://marca.com\")"
   ]
  },
  {
   "cell_type": "code",
   "execution_count": null,
   "id": "c877dfe0",
   "metadata": {},
   "outputs": [],
   "source": []
  }
 ],
 "metadata": {
  "kernelspec": {
   "display_name": "Python 3",
   "language": "python",
   "name": "python3"
  },
  "language_info": {
   "codemirror_mode": {
    "name": "ipython",
    "version": 3
   },
   "file_extension": ".py",
   "mimetype": "text/x-python",
   "name": "python",
   "nbconvert_exporter": "python",
   "pygments_lexer": "ipython3",
   "version": "3.11.11"
  }
 },
 "nbformat": 4,
 "nbformat_minor": 5
}
